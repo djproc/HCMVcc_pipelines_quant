{
 "cells": [
  {
   "cell_type": "heading",
   "metadata": {},
   "level": 1,
   "source": [
    "DATA SPLITTER FOR TRAINING/VALIDATION DATASET"
   ]
  },
  {
   "cell_type": "markdown",
   "metadata": {},
   "source": [
    "Generating a validation dataset is necessary to check the accuracy of your CNN training. Here we create a validation dataset that is 30% (non-overlapping) of the training dataset (i.e. images we exported using Generate_IDs&Coords)."
   ]
  },
  {
   "cell_type": "code",
   "execution_count": 1,
   "metadata": {},
   "outputs": [],
   "source": [
    "#this is the name of the folder you have manually checked for correct sorting\n",
    "path_manuallysorted = r\"training2\\_manuallysorted\""
   ]
  },
  {
   "cell_type": "code",
   "execution_count": 2,
   "metadata": {},
   "outputs": [
    {
     "name": "stdout",
     "output_type": "stream",
     "text": [
      "['blur', 'crap', 'MOCK', 'overlap', 'TB_perfect']\n"
     ]
    }
   ],
   "source": [
    "#get the names from the folders in your manually sorted dataset\n",
    "import os\n",
    "dir_list = os.listdir(path_manuallysorted)\n",
    "print(dir_list)"
   ]
  },
  {
   "cell_type": "code",
   "execution_count": 3,
   "metadata": {},
   "outputs": [
    {
     "name": "stdout",
     "output_type": "stream",
     "text": [
      "training2\n"
     ]
    }
   ],
   "source": [
    "#get the name of the base directory (i.e. one folder up where we will place the train and valid sets)\n",
    "base_dir = os.path.join( os.path.dirname(path_manuallysorted))\n",
    "print(base_dir)"
   ]
  },
  {
   "cell_type": "code",
   "execution_count": 4,
   "metadata": {},
   "outputs": [],
   "source": [
    "#This will take the files in the manually sorted directory and split them in to valid and train folders\n",
    "import shutil\n",
    "import numpy as np\n",
    "\n",
    "validation_set_proportion = 0.3 #change this value to change the size of your validation set (e.g. 0.3 = 30%)\n",
    "\n",
    "for folder_name in dir_list:\n",
    "    \n",
    "    source1 = os.path.join(path_manuallysorted, folder_name)\n",
    "    \n",
    "    dest1 = os.path.join(base_dir,\"valid\", folder_name)\n",
    "    if not os.path.exists(dest1):\n",
    "        os.makedirs(dest1)\n",
    "    \n",
    "    dest2 = os.path.join(base_dir,\"train\", folder_name)\n",
    "    if not os.path.exists(dest2):\n",
    "        os.makedirs(dest2)\n",
    "        \n",
    "    files = os.listdir(source1)\n",
    "    for f in files:\n",
    "        if np.random.rand(1) < validation_set_proportion:\n",
    "            shutil.copy(os.path.join(source1,f), os.path.join(dest1,f)) #note: you can change copy to move if you don't want to duplicate your data\n",
    "        else:\n",
    "            shutil.copy(os.path.join(source1,f), os.path.join(dest2,f))"
   ]
  },
  {
   "cell_type": "markdown",
   "metadata": {},
   "source": [
    "#THEN I MOVED THIS TO THE v3 folderdd"
   ]
  }
 ],
 "metadata": {
  "kernelspec": {
   "display_name": "Python 3",
   "language": "python",
   "name": "python3"
  },
  "language_info": {
   "codemirror_mode": {
    "name": "ipython",
    "version": 3
   },
   "file_extension": ".py",
   "mimetype": "text/x-python",
   "name": "python",
   "nbconvert_exporter": "python",
   "pygments_lexer": "ipython3",
   "version": "3.7.3"
  }
 },
 "nbformat": 4,
 "nbformat_minor": 2
}
